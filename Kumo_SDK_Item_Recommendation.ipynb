{
  "cells": [
    {
      "cell_type": "markdown",
      "metadata": {
        "id": "view-in-github",
        "colab_type": "text"
      },
      "source": [
        "<a href=\"https://colab.research.google.com/github/SuperCUDA/ARCs/blob/main/Kumo_SDK_Item_Recommendation.ipynb\" target=\"_parent\"><img src=\"https://colab.research.google.com/assets/colab-badge.svg\" alt=\"Open In Colab\"/></a>"
      ]
    },
    {
      "cell_type": "markdown",
      "metadata": {
        "id": "zynGa_thnhry"
      },
      "source": [
        "![link text](https://kumo-ai.github.io/kumo-sdk/docs/_static/kumo-logo.svg)\n",
        "\n",
        "## **This notebook requires a Kumo API key. To provision one for free and get started, visit https://kumo.ai/try/**.\n",
        "\n",
        "\n",
        "Your API key and environment will be emailed to you shortly after submitting the form on the website.\n",
        "\n",
        "---\n",
        "\n",
        "\n",
        "## Introduction\n",
        "\n",
        "This notebook demonstrates an end-to-end example of building a model and generating predictions in the Kumo SDK. Here, we build a [relational deep learning](https://arxiv.org/abs/2312.04615) model directly on a dataset of customers, transactions, and products, to predict which products a user is most likely to interact with in the next 7 days. The model is specified using Kumo's [predictive query language](https://docs.kumo.ai/docs/pquery-structure) and trained on the Kumo machine learning platform as part of a smooth, performant, and scalable end-to-end pipeline.\n",
        "\n",
        "**Our documentation is hosted at https://kumo-ai.github.io/kumo-sdk/docs/**."
      ]
    },
    {
      "cell_type": "code",
      "execution_count": null,
      "metadata": {
        "id": "tQnT40fpEV4Q"
      },
      "outputs": [],
      "source": [
        "API_KEY = 'kumo:<secret>'\n",
        "ENVIRONMENT = 'https://<environment>.trial.kumoai.cloud'"
      ]
    },
    {
      "cell_type": "markdown",
      "metadata": {
        "id": "xka-d2yQLRgD"
      },
      "source": [
        "## Initialization\n",
        "\n",
        "Initializing the SDK is simple: install with `pip`, import, and connect to your Kumo platform endpoint using a provisioned API key.\n",
        "\n",
        "*See documentation [here](https://kumo-ai.github.io/kumo-sdk/docs/generated/kumoai.init.html#kumoai.init).*"
      ]
    },
    {
      "cell_type": "code",
      "execution_count": null,
      "metadata": {
        "collapsed": true,
        "id": "Vhj2AiIzAN6F"
      },
      "outputs": [],
      "source": [
        "!pip install kumoai==0.4.2 --extra-index-url=https://sdk-pkg.kumoai.cloud"
      ]
    },
    {
      "cell_type": "code",
      "execution_count": null,
      "metadata": {
        "id": "Csrea1ADBDrL"
      },
      "outputs": [],
      "source": [
        "import kumoai as kumo"
      ]
    },
    {
      "cell_type": "code",
      "execution_count": null,
      "metadata": {
        "id": "XqkYzPQjCDZ2"
      },
      "outputs": [],
      "source": [
        "kumo.init(f\"{ENVIRONMENT}/api\", API_KEY)"
      ]
    },
    {
      "cell_type": "markdown",
      "metadata": {
        "id": "MT3o6tT5zMeM"
      },
      "source": [
        "## Connecting Data\n",
        "\n",
        "You can connect data to the Kumo platform from a variety of data sources: see [`kumo.Connector`](https://kumo-ai.github.io/kumo-sdk/docs/modules/connector.html) for more details. We support connecting to data on Snowflake, Databricks, BigQuery, and Amazon S3.\n",
        "\n",
        "In this notebook, we will connect to the customer lifetime value dataset hosted at `s3://kumo-public-datasets/customerltv_mini/`.\n",
        "\n",
        "*See documentation [here](https://kumo-ai.github.io/kumo-sdk/docs/modules/connector.html).*\n",
        "\n",
        "<img src=\"https://kumo-sdk-public.s3.us-west-2.amazonaws.com/kumo_data.png\" alt=\"drawing\" width=\"800\"/>\n"
      ]
    },
    {
      "cell_type": "code",
      "execution_count": null,
      "metadata": {
        "id": "bT0qJ2LUBqva"
      },
      "outputs": [],
      "source": [
        "connector = kumo.S3Connector(root_dir=\"s3://kumo-public-datasets/customerltv_mini/\")"
      ]
    },
    {
      "cell_type": "markdown",
      "metadata": {
        "id": "4qQK7WZ9MvxI"
      },
      "source": [
        "Connectors can be used to inspect the tables within them, and fetch samples of the source data."
      ]
    },
    {
      "cell_type": "code",
      "execution_count": null,
      "metadata": {
        "id": "bzm-b-TSCQgA"
      },
      "outputs": [],
      "source": [
        "# List all table names behind this connector:\n",
        "connector.table_names()"
      ]
    },
    {
      "cell_type": "code",
      "execution_count": null,
      "metadata": {
        "id": "ZdQ3A0Q24gYa"
      },
      "outputs": [],
      "source": [
        "# View a sample of the 'customer' table's rows:\n",
        "connector['customer'].head(num_rows=5)"
      ]
    },
    {
      "cell_type": "code",
      "execution_count": null,
      "metadata": {
        "id": "gGXrM3j45LWU"
      },
      "outputs": [],
      "source": [
        "# View a sample of the 'transaction' table's rows:\n",
        "connector['transaction'].head(num_rows=5)"
      ]
    },
    {
      "cell_type": "code",
      "execution_count": null,
      "metadata": {
        "id": "Sw1XMOKBTG8T"
      },
      "outputs": [],
      "source": [
        "# View a sample of the 'stock' table's rows:\n",
        "connector['stock'].head(num_rows=5)"
      ]
    },
    {
      "cell_type": "markdown",
      "metadata": {
        "id": "Kf8fpA7h6MXW"
      },
      "source": [
        "## Creating Tables\n",
        "\n",
        "Once we are comfortable with our source data, we can prepare data for the Kumo platform by constructing Kumo `Table` objects from the source tables. Kumo `Table` objects define important metadata for the downstream machine learning problem, including\n",
        "* Column data types (`dtype`) and semantic types (`stype`)\n",
        "* The table's primary key, if present\n",
        "* The table's time and end time columns, if present\n",
        "\n",
        "*See documentation [here](https://kumo-ai.github.io/kumo-sdk/docs/generated/kumoai.graph.Table.html).*"
      ]
    },
    {
      "cell_type": "code",
      "execution_count": null,
      "metadata": {
        "id": "WiHuVsFE6NE6"
      },
      "outputs": [],
      "source": [
        "# Create a Kumo table from a source table, specifying\n",
        "# additional metadata about the table's structure:\n",
        "transaction = kumo.Table.from_source_table(\n",
        "  source_table=connector['transaction'],\n",
        "  primary_key=None,\n",
        "  time_column='InvoiceDate'\n",
        ")\n",
        "transaction['InvoiceDate'].dtype = 'time'\n",
        "transaction.validate()"
      ]
    },
    {
      "cell_type": "code",
      "execution_count": null,
      "metadata": {
        "id": "L3Qd-5uv6RU0"
      },
      "outputs": [],
      "source": [
        "# Print the table's definition, ready to copy-and-paste back into\n",
        "# code if needed:\n",
        "transaction.print_definition()"
      ]
    },
    {
      "cell_type": "code",
      "execution_count": null,
      "metadata": {
        "id": "tuRlx3HD_CEM"
      },
      "outputs": [],
      "source": [
        "# Adjust any semantic types if necessary:\n",
        "transaction['Quantity'].stype = 'categorical'"
      ]
    },
    {
      "cell_type": "markdown",
      "metadata": {
        "id": "IhcFALlZAZ7P"
      },
      "source": [
        "We can repeat this process for the other tables in the dataset:"
      ]
    },
    {
      "cell_type": "code",
      "execution_count": null,
      "metadata": {
        "id": "2lJZ-EgeC7dg"
      },
      "outputs": [],
      "source": [
        "customer = kumo.Table.from_source_table(\n",
        "    source_table=connector['customer'],\n",
        "    primary_key='CustomerID',\n",
        ")\n",
        "customer.validate()"
      ]
    },
    {
      "cell_type": "code",
      "execution_count": null,
      "metadata": {
        "id": "WT0QftgfAdLE"
      },
      "outputs": [],
      "source": [
        "stock = kumo.Table.from_source_table(\n",
        "    source_table=connector['stock'],\n",
        "    primary_key='StockCode',\n",
        ")\n",
        "stock.validate()"
      ]
    },
    {
      "cell_type": "markdown",
      "metadata": {
        "id": "tmBMk0n7SW7p"
      },
      "source": [
        "### Aside: Saving Table Schemas\n",
        "\n",
        "The Kumo SDK and UI are fully compatible, so that you can define a table in the SDK and access it in the UI, and vice-versa. This is made possible by calling the `table.save(name=...)` method, which saves the schema of your table under `name`; you can access the schema on the \"Tables\" page in the UI.\n",
        "\n",
        "Let's try it below:"
      ]
    },
    {
      "cell_type": "code",
      "execution_count": null,
      "metadata": {
        "id": "mDGojdL-SWER"
      },
      "outputs": [],
      "source": [
        "stock.save('stock')\n",
        "customer.save('customer')\n",
        "transaction.save('transaction')"
      ]
    },
    {
      "cell_type": "markdown",
      "metadata": {
        "id": "0lqvLNx2SwSn"
      },
      "source": [
        "You can now access and modify these tables in the UI. To load the tables in the SDK, you can call the `Table.load(name)` method, as follows:"
      ]
    },
    {
      "cell_type": "code",
      "execution_count": null,
      "metadata": {
        "id": "MxuSfhV6S3Vm"
      },
      "outputs": [],
      "source": [
        "transaction_loaded = kumo.Table.load('transaction')"
      ]
    },
    {
      "cell_type": "markdown",
      "metadata": {
        "id": "BpJEQbuwDaet"
      },
      "source": [
        "## Creating a Graph\n",
        "\n",
        "After specifying our Kumo tables, we can next create a `Graph`, which represents relationships between these tables. Defining this graph is the final step of the data specification pipeline; after its creation, we are able to create predictive queries to answer business problems that relate to our data.\n",
        "\n",
        "*See documentation [here](https://kumo-ai.github.io/kumo-sdk/docs/generated/kumoai.graph.Graph.html).*"
      ]
    },
    {
      "cell_type": "code",
      "execution_count": null,
      "metadata": {
        "id": "9oagiQe7DVtu"
      },
      "outputs": [],
      "source": [
        "retail_graph = kumo.Graph(\n",
        "\t# These are the tables that participate in the graph: the keys of this\n",
        "\t# dictionary are the names of the tables, and the values are the Table\n",
        "\t# objects that correspond to these names:\n",
        "\ttables={\n",
        "    'customer': customer,\n",
        "    'transaction': transaction,\n",
        "    'stock': stock,\n",
        "\t},\n",
        "\n",
        " \t# These are the edges that define the primary key / foreign key\n",
        "\t# relationships between the tables defined above. Here, `src_table`\n",
        "\t# is the table that has the foreign key `fkey`, which maps to the\n",
        "\t# table `dst_table`'s primary key:`\n",
        "\tedges=[\n",
        "    dict(src_table='transaction', fkey='CustomerID', dst_table='customer'),\n",
        "    dict(src_table='transaction', fkey='StockCode', dst_table='stock')\n",
        "\t],\n",
        ")"
      ]
    },
    {
      "cell_type": "code",
      "execution_count": null,
      "metadata": {
        "id": "ZNJQz0fKD7mR"
      },
      "outputs": [],
      "source": [
        "# Let's visualize our graph, to get a sense for how all our tables are\n",
        "# connected:\n",
        "retail_graph.visualize(show_cols=True)"
      ]
    },
    {
      "cell_type": "markdown",
      "metadata": {
        "id": "vWVWXUWOS9AL"
      },
      "source": [
        "### Aside: Saving Graph Schemas\n",
        "\n",
        "The Kumo SDK and UI are fully compatible, so that you can define a graph in the SDK and access it in the UI, and vice-versa. This is made possible by calling the `graph.save(name=...)` method, which saves the schema of your table under `name`; you can access the schema on the \"Graphs\" page in the UI.\n",
        "\n",
        "Let's try it below:"
      ]
    },
    {
      "cell_type": "code",
      "execution_count": null,
      "metadata": {
        "id": "-D7jDXRwTByn"
      },
      "outputs": [],
      "source": [
        "retail_graph.save('retail_graph')"
      ]
    },
    {
      "cell_type": "markdown",
      "metadata": {
        "id": "u_eOnNboTDTd"
      },
      "source": [
        "You can now access and modify the graph in the UI. To load the graph in the SDK, you can call the `Graph.load(name)` method, as follows:"
      ]
    },
    {
      "cell_type": "code",
      "execution_count": null,
      "metadata": {
        "id": "-eS6jrXDTFkT"
      },
      "outputs": [],
      "source": [
        "graph_loaded = kumo.Graph.load('retail_graph')"
      ]
    },
    {
      "cell_type": "markdown",
      "metadata": {
        "id": "OLI-oWEiG-yV"
      },
      "source": [
        "## Writing a Predictive Query\n",
        "\n",
        "After we've connected our data as Kumo Tables in a Kumo Graph, we can write a predictive query representing a business problem we would like to solve on our specified tables; please see the Kumo documentation for the specification of the predictive query language.\n",
        "\n",
        "<img src=\"https://kumo-sdk-public.s3.us-west-2.amazonaws.com/kumo_pq.png\" alt=\"drawing\" width=\"700\"/>\n",
        "\n",
        "\n",
        "*See documentation [here](https://kumo-ai.github.io/kumo-sdk/docs/generated/kumoai.pquery.PredictiveQuery.html#kumoai.pquery.PredictiveQuery).*"
      ]
    },
    {
      "cell_type": "code",
      "execution_count": null,
      "metadata": {
        "id": "UOupUUaFG-l3"
      },
      "outputs": [],
      "source": [
        "# Construct a query to predict which products (StockCode) the user is most likely\n",
        "# to interact with in the next 7 days, for all customers in the customer table\n",
        "query = kumo.PredictiveQuery(\n",
        "\tgraph=retail_graph,\n",
        "\tquery=\"PREDICT LIST_DISTINCT(transaction.StockCode, 0, 7, days) RANK TOP 12 FOR EACH customer.CustomerID\",\n",
        ")\n",
        "\n",
        "# Ensure this query is specified appropriately for this graph:\n",
        "query.validate()"
      ]
    },
    {
      "cell_type": "code",
      "execution_count": null,
      "metadata": {
        "id": "AjI_NZBAD_20"
      },
      "outputs": [],
      "source": [
        "# Fetch the machine learning task type for this query:\n",
        "print(f\"This query is a {query.get_task_type().replace('_', ' ')} task.\")"
      ]
    },
    {
      "cell_type": "markdown",
      "metadata": {
        "id": "z6FzaBV6jZAY"
      },
      "source": [
        "## Training a Model\n",
        "\n",
        "With a predictive query in place, we can now train a model to predict the desired outputs of the query over our Kumo Graph. The Kumo SDK supports modular execution of the different components of the training pipeline for ease of experimentation and hyperparameter tuning.\n",
        "\n",
        "<img src=\"https://kumo-sdk-public.s3.us-west-2.amazonaws.com/kumo_model.png\" alt=\"drawing\" width=\"800\"/>"
      ]
    },
    {
      "cell_type": "markdown",
      "metadata": {
        "id": "r-8SD4lHkcZi"
      },
      "source": [
        "### Generating a Training Table\n",
        "\n",
        "The first step of training is the generation of a training table from your predictive query. You can specify a granular plan to determine how exactly this is done, including specifications of elements like the `split`, `train_start_offset`, and more.\n",
        "\n",
        "As with all long-running jobs in the Kumo SDK, training table generation can be run in nonblocking mode, which returns a job that can be attached to, polled, and resolved (once complete) to a training table object to inspect.\n",
        "\n",
        "*See documentation [here](https://kumo-ai.github.io/kumo-sdk/docs/generated/kumoai.pquery.PredictiveQuery.html#kumoai.pquery.PredictiveQuery.generate_training_table).*"
      ]
    },
    {
      "cell_type": "code",
      "execution_count": null,
      "metadata": {
        "id": "jUDtHAEvCZq2"
      },
      "outputs": [],
      "source": [
        "# Let Kumo intelligently suggest a training table generation plan, given the\n",
        "# specified graph and query:\n",
        "training_table_plan = query.suggest_training_table_plan()"
      ]
    },
    {
      "cell_type": "code",
      "execution_count": null,
      "metadata": {
        "id": "iWdNfD5VDIcV"
      },
      "outputs": [],
      "source": [
        "# Take a look inside:\n",
        "print(training_table_plan)"
      ]
    },
    {
      "cell_type": "code",
      "execution_count": null,
      "metadata": {
        "id": "Y541OvlmkJN_"
      },
      "outputs": [],
      "source": [
        "# Launch an asynchronous (nonblocking) job to generate a training table, given\n",
        "# our specified model plan. This job is scheduled and orchestrated by the\n",
        "# Kumo platform, and can be chained with other jobs (e.g. training) downstream:\n",
        "train_table_job = query.generate_training_table(training_table_plan, non_blocking=True)"
      ]
    },
    {
      "cell_type": "code",
      "execution_count": null,
      "metadata": {
        "id": "PQgfRgn0lS3F"
      },
      "outputs": [],
      "source": [
        "# The ID of this job:\n",
        "print(train_table_job.id)"
      ]
    },
    {
      "cell_type": "code",
      "execution_count": null,
      "metadata": {
        "id": "Jcuh4v3RVAet"
      },
      "outputs": [],
      "source": [
        "# OPTIONAL: If you want to wait for training table generation to complete\n",
        "# train_table_job.attach()"
      ]
    },
    {
      "cell_type": "markdown",
      "metadata": {
        "id": "xfXAnRZplisv"
      },
      "source": [
        "### Training\n",
        "\n",
        "After launching a training table generation job, we are ready to train a model. Following the same pattern as with training table generation, let's let Kumo intelligently suggest a model plan, that we can modify downstream:\n",
        "\n",
        "<img src=\"https://kumo-sdk-public.s3.us-west-2.amazonaws.com/kumo_training.png\" alt=\"drawing\" width=\"700\"/>\n",
        "\n",
        "*See documentation [here](https://kumo-ai.github.io/kumo-sdk/docs/generated/kumoai.trainer.Trainer.html).*"
      ]
    },
    {
      "cell_type": "code",
      "execution_count": null,
      "metadata": {
        "id": "h-EKg4JOCpG-"
      },
      "outputs": [],
      "source": [
        "# Let Kumo intelligently suggest a modeling plan, given the\n",
        "# specified graph and query:\n",
        "model_plan = query.suggest_model_plan()\n",
        "print(model_plan)"
      ]
    },
    {
      "cell_type": "code",
      "execution_count": null,
      "metadata": {
        "id": "ols41AmBoC2_"
      },
      "outputs": [],
      "source": [
        "# Let's make a minor adjustment:\n",
        "model_plan.training_job.num_experiments = 2"
      ]
    },
    {
      "cell_type": "markdown",
      "metadata": {
        "id": "683p4r-9r7DF"
      },
      "source": [
        "Now, we train:"
      ]
    },
    {
      "cell_type": "code",
      "execution_count": null,
      "metadata": {
        "id": "5c0UTg05DSqW"
      },
      "outputs": [],
      "source": [
        "# A Trainer object manages the execution of a training pipeline, according to\n",
        "# the `model_plan` specification:\n",
        "trainer = kumo.Trainer(model_plan)\n",
        "\n",
        "# Launch an asynchronous (nonblocking) job to train a model, given\n",
        "# our specified model plan. This job is scheduled and orchestrated by the\n",
        "# Kumo platform, and is chained with the job to generate the training table\n",
        "# launched above (it will sequence itself after training table generation is\n",
        "# complete):\n",
        "training_job = trainer.fit(\n",
        "\tgraph=retail_graph,\n",
        "\ttrain_table=train_table_job,\n",
        "\tnon_blocking=True,\n",
        ")"
      ]
    },
    {
      "cell_type": "code",
      "execution_count": null,
      "metadata": {
        "id": "q2rbrQe1n0yN"
      },
      "outputs": [],
      "source": [
        "# The ID of this job:\n",
        "print(f'The ID of our training job is {training_job.job_id}. To see the results later you can run kumo.TrainingJob(\"{training_job.job_id}\").result()')"
      ]
    },
    {
      "cell_type": "code",
      "execution_count": null,
      "metadata": {
        "colab": {
          "background_save": true
        },
        "id": "CYkUw6pxn484"
      },
      "outputs": [],
      "source": [
        "# Let's follow along...\n",
        "training_job.attach()"
      ]
    },
    {
      "cell_type": "markdown",
      "metadata": {
        "id": "jWiLNWsJ1sII"
      },
      "source": [
        "Once training is done, we can observe generated artifacts to get a sense for how the model behaved:"
      ]
    },
    {
      "cell_type": "code",
      "execution_count": null,
      "metadata": {
        "id": "AbNC4fhB1w9q"
      },
      "outputs": [],
      "source": [
        "job_result = kumo.TrainingJob(training_job.job_id).result()"
      ]
    },
    {
      "cell_type": "code",
      "execution_count": null,
      "metadata": {
        "id": "4IfLvOr41zaI"
      },
      "outputs": [],
      "source": [
        "print(job_result.metrics())"
      ]
    },
    {
      "cell_type": "markdown",
      "metadata": {
        "id": "tMiGfwzaVGwE"
      },
      "source": [
        "### Aside: Training a Model in the UI\n",
        "\n",
        "Since we've saved our graph under the name `retail_graph` in the UI, we can now navigate to the \"New > Model\" button in the UI sidebar to train this exact same model, on the same data, in the UI.\n",
        "\n",
        "Simply paste the predictive query in the predictive query box, adjust any model parameters as necessary, and train! You can interact with your job in the SDK, using its job id."
      ]
    },
    {
      "cell_type": "markdown",
      "metadata": {
        "id": "EJUM_qI5JKTz"
      },
      "source": [
        "## Generating Predictions\n",
        "\n",
        "After our training job is completed, we can generate batch predictions using our trained model. We can choose to output these batch predictions directly to a connector (e.g. Amazon S3, Databricks, Snowflake), or we can generate predictions for download and export at our convenience later with the [`export`](https://kumo-ai.github.io/kumo-sdk/docs/generated/kumoai.trainer.BatchPredictionJobResult.html#kumoai.trainer.BatchPredictionJobResult.export) method.\n",
        "\n",
        "We will do the latter here.\n",
        "\n",
        "*See documentation [here](https://kumo-ai.github.io/kumo-sdk/docs/modules/trainer.html#batch-prediction).*"
      ]
    },
    {
      "cell_type": "code",
      "execution_count": null,
      "metadata": {
        "id": "uH9DeBm3K6Rk"
      },
      "outputs": [],
      "source": [
        "# Predict on your trained model:\n",
        "prediction_job = trainer.predict(\n",
        "    graph=retail_graph,\n",
        "    prediction_table=query.generate_prediction_table(non_blocking=True),\n",
        "    output_types={'predictions', 'embeddings'},\n",
        "    training_job_id=training_job.job_id,  # use our training job's model\n",
        "    non_blocking=False,\n",
        ")\n",
        "print(f'Batch prediction job summary: {prediction_job.summary()}')"
      ]
    },
    {
      "cell_type": "code",
      "execution_count": null,
      "metadata": {
        "id": "iagEONRSZceu"
      },
      "outputs": [],
      "source": [
        "# See your predictions:\n",
        "prediction_job.predictions_df()"
      ]
    },
    {
      "cell_type": "markdown",
      "metadata": {
        "id": "IHzKZEt1XWB5"
      },
      "source": [
        "**And... that's it! You've trained a complex model and made predictions on a relational dataset.**\n",
        "\n",
        "Feel free to continue to work with more examples, or reach out to us on Slack if you have any further questions."
      ]
    },
    {
      "cell_type": "markdown",
      "metadata": {
        "id": "UNBoE7LPWnBA"
      },
      "source": [
        "### Generating Predictions in a New Session\n",
        "\n",
        "The above line of code assumes that you have `retail_graph`, `query`, and `training_job` stored as local variables that you can use at prediction time. Often, you'll want to train a model once, and generate predictions at a regular cadence in a separate workflow.\n",
        "\n",
        "To do so, you can simply load the relevant objects associated with your training job, and call `predict`. Here's an example:"
      ]
    },
    {
      "cell_type": "code",
      "execution_count": null,
      "metadata": {
        "id": "TDstBk59W4B9"
      },
      "outputs": [],
      "source": [
        "training_job = kumo.TrainingJob('<training_job_id>')\n",
        "training_query = kumo.PredictiveQuery.load_from_training_job(training_job.job_id)\n",
        "training_graph = training_query.graph\n",
        "\n",
        "# Predict on your trained model:\n",
        "prediction_job = trainer.predict(\n",
        "    graph=training_graph,\n",
        "    prediction_table=training_query.generate_prediction_table(non_blocking=True),\n",
        "    output_types={'predictions', 'embeddings'},\n",
        "    training_job_id=training_job.job_id,  # use our training job's model\n",
        "    non_blocking=False,\n",
        ")\n",
        "print(f'Batch prediction job summary: {prediction_job.summary()}')"
      ]
    },
    {
      "cell_type": "markdown",
      "metadata": {
        "id": "jagJM2rXVXim"
      },
      "source": [
        "### Aside: Generating Predictions in the UI\n",
        "\n",
        "You can generate predictions in the UI or SDK regardless of where the model was trained. To do so, after training is completed, simply navigate to the \"New > Prediction\" button in the UI sidebar, select your trained model, and fill in the form to generate predictions!\n",
        "\n",
        "You can interact with your job in the SDK, using its job id."
      ]
    }
  ],
  "metadata": {
    "colab": {
      "provenance": [],
      "include_colab_link": true
    },
    "kernelspec": {
      "display_name": "Python 3",
      "name": "python3"
    },
    "language_info": {
      "name": "python"
    }
  },
  "nbformat": 4,
  "nbformat_minor": 0
}